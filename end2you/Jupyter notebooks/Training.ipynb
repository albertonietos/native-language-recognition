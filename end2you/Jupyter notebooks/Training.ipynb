{
 "cells": [
  {
   "cell_type": "markdown",
   "metadata": {},
   "source": [
    "# 1. DATA GENERATION"
   ]
  },
  {
   "cell_type": "code",
   "execution_count": null,
   "metadata": {},
   "outputs": [],
   "source": [
    "import sys\n",
    "sys.path.append(\"../raw_audio/end2you\")\n",
    "\n",
    "from end2you.generation_process import GenerationProcess\n",
    "from end2you.utils import Params"
   ]
  },
  {
   "cell_type": "markdown",
   "metadata": {},
   "source": [
    "## Training data"
   ]
  },
  {
   "cell_type": "code",
   "execution_count": null,
   "metadata": {},
   "outputs": [],
   "source": [
    "generator_params_train = Params(dict_params={\n",
    "            'save_data_folder': '../raw_audio/5sec/hdf5/train',\n",
    "            'num_outputs': 11,\n",
    "            'modality': 'audio',\n",
    "            'input_file': '../datapaths/trainpaths.csv',\n",
    "            'exclude_cols': '0',\n",
    "            'fieldnames': None,\n",
    "            'delimiter': ',',\n",
    "            'log_file': 'generation.log',\n",
    "            'root_dir': '../raw_audio/5sec_final/outputs',\n",
    "            'cuda': True\n",
    "        })"
   ]
  },
  {
   "cell_type": "code",
   "execution_count": null,
   "metadata": {
    "scrolled": true
   },
   "outputs": [],
   "source": [
    "generation = GenerationProcess(generator_params_train)\n",
    "generation.start()"
   ]
  },
  {
   "cell_type": "code",
   "execution_count": null,
   "metadata": {},
   "outputs": [],
   "source": [
    "generator_params_devel = Params(dict_params={\n",
    "            'save_data_folder': '../raw_audio/5sec/hdf5/devel',\n",
    "            'num_outputs': 11,\n",
    "            'modality': 'audio',\n",
    "            'input_file': '../datapaths/develpaths.csv',\n",
    "            'exclude_cols': '0',\n",
    "            'fieldnames': None,\n",
    "            'delimiter': ',',\n",
    "            'log_file': 'generation_devel.log',\n",
    "            'root_dir': '../raw_audio/5sec/outputs',\n",
    "            'cuda': True\n",
    "        })"
   ]
  },
  {
   "cell_type": "code",
   "execution_count": null,
   "metadata": {},
   "outputs": [],
   "source": [
    "generation_devel = GenerationProcess(generator_params_devel)\n",
    "generation_devel.start()"
   ]
  },
  {
   "cell_type": "code",
   "execution_count": null,
   "metadata": {},
   "outputs": [],
   "source": [
    "generator_params_test = Params(dict_params={\n",
    "            'save_data_folder': '../raw_audio/5sec/hdf5/test',\n",
    "            'num_outputs': 11,\n",
    "            'modality': 'audio',\n",
    "            'input_file': '../datapaths/testpaths.csv',\n",
    "            'exclude_cols': '0',\n",
    "            'fieldnames': None,\n",
    "            'delimiter': ',',\n",
    "            'log_file': 'generation_test.log',\n",
    "            'root_dir': '../raw_audio/5sec/outputs',\n",
    "            'cuda': True\n",
    "        })"
   ]
  },
  {
   "cell_type": "code",
   "execution_count": null,
   "metadata": {},
   "outputs": [],
   "source": [
    "generation_test = GenerationProcess(generator_params_test)\n",
    "generation_test.start()"
   ]
  },
  {
   "cell_type": "markdown",
   "metadata": {},
   "source": [
    "# 3. Training"
   ]
  },
  {
   "cell_type": "code",
   "execution_count": null,
   "metadata": {},
   "outputs": [],
   "source": [
    "import numpy as np\n",
    "\n",
    "import sys\n",
    "sys.path.append(\"../raw_audio/end2you\")\n",
    "\n",
    "from pathlib import Path\n",
    "from end2you.training_process import TrainingProcess\n",
    "from end2you.utils import Params\n",
    "\n",
    "params = Params(dict_params={\n",
    "    \n",
    "    'train':Params(dict_params={'loss':'ce',\n",
    "                                'dataset_path':'../raw_audio/5sec/hdf5/train',\n",
    "                                'optimizer':'adagrad',\n",
    "                                'learning_rate':0.002,\n",
    "                                'summarywriter_file':'train_sw',\n",
    "                                'num_epochs':50,\n",
    "                                'num_workers':1,\n",
    "                                'cuda':True, \n",
    "                                'modality':'audio',\n",
    "                                'batch_size':10,\n",
    "                                'is_training':True, # Always True\n",
    "                                'save_summary_steps':10, \n",
    "                                'seq_length': 10\n",
    "                               }),\n",
    "    'valid':Params(dict_params={'summarywriter_file':'eval_sw',\n",
    "                                'metric':'mse',\n",
    "                                'dataset_path':'../raw_audio/5sec/hdf5/minidevel',\n",
    "                                'num_workers':1,\n",
    "                                'cuda':True,  \n",
    "                                'modality':'audio',\n",
    "                                'batch_size':1, # Always 1\n",
    "                                'save_summary_steps':1, # Always 1\n",
    "                                'is_training':False, # Always False\n",
    "                                'seq_length': 10\n",
    "                              }),\n",
    "    'model':Params(dict_params={'model_name':'emo18', 'num_outs':11}),\n",
    "    'root_dir':'../raw_audio/5sec/outputs3',\n",
    "    'log_file':'training.log',\n",
    "    'ckpt_path': None,\n",
    "    'num_gpus':1\n",
    "})\n",
    "training = TrainingProcess(params)\n",
    "training.start()"
   ]
  },
  {
   "cell_type": "markdown",
   "metadata": {},
   "source": [
    "# 4. Evaluation"
   ]
  },
  {
   "cell_type": "code",
   "execution_count": null,
   "metadata": {},
   "outputs": [],
   "source": [
    "import sys\n",
    "sys.path.append(\"../raw_audio/end2you\")\n",
    "\n",
    "from end2you.generation_process import GenerationProcess\n",
    "from end2you.utils import Params\n",
    "\n",
    "import numpy as np\n",
    "\n",
    "from pathlib import Path\n",
    "from end2you.evaluation_process import EvaluationProcess\n",
    "from end2you.utils import Params\n",
    "\n",
    "params = Params(dict_params={\n",
    "    'metric': 'mse',\n",
    "    'modality': 'audio',\n",
    "    'dataset_path':'../raw_audio/5sec/hdf5/test',\n",
    "    'model_path':'../raw_audio/5sec/outputs/model/best.pth.tar',\n",
    "    'cuda':True,\n",
    "    'num_gpus':1,\n",
    "    'root_dir':'../raw_audio/5sec/outputs',\n",
    "    'seq_length': 10,\n",
    "    'num_workers':2,\n",
    "    'log_file': 'evaluation.log',\n",
    "    'model':Params(dict_params={'model_name':'emo18', 'num_outs':11})\n",
    "})\n",
    "eval_process = EvaluationProcess(params)\n",
    "scores, predictions = eval_process.start()"
   ]
  }
 ],
 "metadata": {
  "kernelspec": {
   "display_name": "Python 3",
   "language": "python",
   "name": "python3"
  },
  "language_info": {
   "codemirror_mode": {
    "name": "ipython",
    "version": 3
   },
   "file_extension": ".py",
   "mimetype": "text/x-python",
   "name": "python",
   "nbconvert_exporter": "python",
   "pygments_lexer": "ipython3",
   "version": "3.8.5"
  }
 },
 "nbformat": 4,
 "nbformat_minor": 4
}
